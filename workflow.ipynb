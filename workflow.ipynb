{
 "cells": [
  {
   "cell_type": "markdown",
   "source": [
    "## EOPatch"
   ],
   "metadata": {}
  },
  {
   "cell_type": "markdown",
   "source": [
    "### Create an empty patch "
   ],
   "metadata": {}
  },
  {
   "cell_type": "code",
   "execution_count": 26,
   "source": [
    "from eolearn.core import EOPatch, FeatureType\n",
    "import numpy as np\n",
    "\n",
    "# Set a feature to EOPatch. Each feature has to belong to one of the feature types listed above.\n",
    "patch = EOPatch()\n",
    "new_bands = np.zeros((5, 10, 10, 13), dtype=np.float32)"
   ],
   "outputs": [],
   "metadata": {}
  },
  {
   "cell_type": "code",
   "execution_count": 27,
   "source": [
    "patch[FeatureType.DATA]['bands'] = new_bands\n",
    "# or patch.data['bands'] = new_bands"
   ],
   "outputs": [],
   "metadata": {}
  },
  {
   "cell_type": "code",
   "execution_count": 28,
   "source": [
    "# Check current content of EOPatch with it’s string representation.\n",
    "patch"
   ],
   "outputs": [
    {
     "output_type": "execute_result",
     "data": {
      "text/plain": [
       "EOPatch(\n",
       "  data: {\n",
       "    bands: numpy.ndarray(shape=(5, 10, 10, 13), dtype=float32)\n",
       "  }\n",
       "  mask: {}\n",
       "  scalar: {}\n",
       "  label: {}\n",
       "  vector: {}\n",
       "  data_timeless: {}\n",
       "  mask_timeless: {}\n",
       "  scalar_timeless: {}\n",
       "  label_timeless: {}\n",
       "  vector_timeless: {}\n",
       "  meta_info: {}\n",
       "  bbox: None\n",
       "  timestamp: []\n",
       ")"
      ]
     },
     "metadata": {},
     "execution_count": 28
    }
   ],
   "metadata": {}
  },
  {
   "cell_type": "code",
   "execution_count": 29,
   "source": [
    "# Get all non-empty features of EOPatch\n",
    "patch.get_features()\n",
    "\n",
    "# Get a feature from EOPatch\n",
    "data = patch[FeatureType.DATA]['bands']\n",
    "# or patch.data['bands']"
   ],
   "outputs": [],
   "metadata": {}
  },
  {
   "cell_type": "code",
   "execution_count": 30,
   "source": [
    "# Save EOPatch to local folder. In case EOPatch would already exist in the specified location we are also giving a permission to overwrite its features.\n",
    "from eolearn.core import OverwritePermission\n",
    "\n",
    "patch.save('./example_patch', overwrite_permission=OverwritePermission.OVERWRITE_FEATURES)"
   ],
   "outputs": [],
   "metadata": {}
  },
  {
   "cell_type": "code",
   "execution_count": 31,
   "source": [
    "# Compare EOPatches\n",
    "patch == patch2"
   ],
   "outputs": [
    {
     "output_type": "execute_result",
     "data": {
      "text/plain": [
       "False"
      ]
     },
     "metadata": {},
     "execution_count": 31
    }
   ],
   "metadata": {}
  },
  {
   "cell_type": "code",
   "execution_count": 32,
   "source": [
    "# Remove a feature from EOPatch\n",
    "del patch2[FeatureType.DATA]['bands']\n",
    "# or del patch.data['bands']"
   ],
   "outputs": [],
   "metadata": {}
  },
  {
   "cell_type": "markdown",
   "source": [
    "### Make a shallow and deep copy of EOPatch. Shallow copy will copy only a reference to data but not the data itself."
   ],
   "metadata": {}
  },
  {
   "cell_type": "code",
   "execution_count": 33,
   "source": [
    "patch1 = patch.__copy__()\n",
    "patch2 = patch.__deepcopy__()\n",
    "\n",
    "patch.data['bands'] += 1\n",
    "\n",
    "patch == patch1, patch == patch2"
   ],
   "outputs": [
    {
     "output_type": "execute_result",
     "data": {
      "text/plain": [
       "(True, False)"
      ]
     },
     "metadata": {},
     "execution_count": 33
    }
   ],
   "metadata": {}
  },
  {
   "cell_type": "markdown",
   "source": [
    "### Load EOPatch from the same folder"
   ],
   "metadata": {}
  },
  {
   "cell_type": "code",
   "execution_count": 34,
   "source": [
    "patch2 = EOPatch.load('./example_patch')"
   ],
   "outputs": [],
   "metadata": {}
  },
  {
   "cell_type": "markdown",
   "source": [
    "### Concatenate two EOPatches"
   ],
   "metadata": {}
  },
  {
   "cell_type": "code",
   "execution_count": 35,
   "source": [
    "patch2[FeatureType.DATA]['bands2'] = new_bands\n",
    "\n",
    "patch + patch2"
   ],
   "outputs": [
    {
     "output_type": "execute_result",
     "data": {
      "text/plain": [
       "EOPatch(\n",
       "  data: {\n",
       "    bands: numpy.ndarray(shape=(10, 10, 10, 13), dtype=float32)\n",
       "    bands2: numpy.ndarray(shape=(5, 10, 10, 13), dtype=float32)\n",
       "  }\n",
       "  mask: {}\n",
       "  scalar: {}\n",
       "  label: {}\n",
       "  vector: {}\n",
       "  data_timeless: {}\n",
       "  mask_timeless: {}\n",
       "  scalar_timeless: {}\n",
       "  label_timeless: {}\n",
       "  vector_timeless: {}\n",
       "  meta_info: {}\n",
       "  bbox: None\n",
       "  timestamp: []\n",
       ")"
      ]
     },
     "metadata": {},
     "execution_count": 35
    }
   ],
   "metadata": {}
  },
  {
   "cell_type": "markdown",
   "source": [
    "## EOTask"
   ],
   "metadata": {}
  },
  {
   "cell_type": "markdown",
   "source": [
    "### Add a feature using the EOTask"
   ],
   "metadata": {}
  },
  {
   "cell_type": "code",
   "execution_count": 36,
   "source": [
    "from eolearn.core import EOPatch, FeatureType, AddFeature # AddFeature is a simple EOTask which adds a feature to a given EOPatch\n",
    "import numpy as np\n",
    "\n",
    "patch = EOPatch()\n",
    "\n",
    "feature = (FeatureType.DATA, 'bands')\n",
    "add_feature = AddFeature(feature)\n",
    "\n",
    "data = np.zeros((5, 100, 100, 13))\n",
    "patch = add_feature.execute(patch, data)\n",
    "# or patch = add_feature(patch, data)\n",
    "\n",
    "patch\n"
   ],
   "outputs": [
    {
     "output_type": "execute_result",
     "data": {
      "text/plain": [
       "EOPatch(\n",
       "  data: {\n",
       "    bands: numpy.ndarray(shape=(5, 100, 100, 13), dtype=float64)\n",
       "  }\n",
       "  mask: {}\n",
       "  scalar: {}\n",
       "  label: {}\n",
       "  vector: {}\n",
       "  data_timeless: {}\n",
       "  mask_timeless: {}\n",
       "  scalar_timeless: {}\n",
       "  label_timeless: {}\n",
       "  vector_timeless: {}\n",
       "  meta_info: {}\n",
       "  bbox: None\n",
       "  timestamp: []\n",
       ")"
      ]
     },
     "metadata": {},
     "execution_count": 36
    }
   ],
   "metadata": {}
  },
  {
   "cell_type": "markdown",
   "source": [
    "### Create a composite task using a multiplication operator (a * b) function"
   ],
   "metadata": {}
  },
  {
   "cell_type": "code",
   "execution_count": 37,
   "source": [
    "from eolearn.core import CopyTask, RenameFeature\n",
    "\n",
    "copy_task = CopyTask()\n",
    "rename_feature = RenameFeature((FeatureType.DATA, 'bands', 'the_bands'))\n",
    "copy_rename_task = rename_feature * copy_task\n",
    "\n",
    "new_patch = copy_rename_task(patch)\n",
    "new_patch"
   ],
   "outputs": [
    {
     "output_type": "execute_result",
     "data": {
      "text/plain": [
       "EOPatch(\n",
       "  data: {\n",
       "    the_bands: numpy.ndarray(shape=(5, 100, 100, 13), dtype=float64)\n",
       "  }\n",
       "  mask: {}\n",
       "  scalar: {}\n",
       "  label: {}\n",
       "  vector: {}\n",
       "  data_timeless: {}\n",
       "  mask_timeless: {}\n",
       "  scalar_timeless: {}\n",
       "  label_timeless: {}\n",
       "  vector_timeless: {}\n",
       "  meta_info: {}\n",
       "  bbox: None\n",
       "  timestamp: []\n",
       ")"
      ]
     },
     "metadata": {},
     "execution_count": 37
    }
   ],
   "metadata": {}
  },
  {
   "cell_type": "markdown",
   "source": [
    "### EOTask Class"
   ],
   "metadata": {}
  },
  {
   "cell_type": "code",
   "execution_count": 38,
   "source": [
    "from eolearn.core import EOTask\n",
    "\n",
    "class Example_Task(EOTask):\n",
    "    def __init__(self, example_param):\n",
    "        self.example_param = example_param\n",
    "    \n",
    "    def execute(self, eopatch, *, patch_specific_param=None):\n",
    "        return eopatch\n"
   ],
   "outputs": [],
   "metadata": {}
  },
  {
   "cell_type": "markdown",
   "source": [
    "## EOWorkflow"
   ],
   "metadata": {}
  },
  {
   "cell_type": "markdown",
   "source": [
    "### Create Workflow"
   ],
   "metadata": {}
  },
  {
   "cell_type": "code",
   "execution_count": 39,
   "source": [
    "from eolearn.core import EOWorkflow\n",
    "\n",
    "workflow = EOWorkflow([\n",
    "    (add_feature, []),\n",
    "    (copy_task, [add_feature]),\n",
    "    (rename_feature, [copy_task])\n",
    "])\n",
    "\n",
    "result = workflow.execute({\n",
    "    add_feature: {'eopatch': patch, 'data': new_bands}\n",
    "})"
   ],
   "outputs": [],
   "metadata": {}
  }
 ],
 "metadata": {
  "orig_nbformat": 4,
  "language_info": {
   "name": "python",
   "version": "3.9.5",
   "mimetype": "text/x-python",
   "codemirror_mode": {
    "name": "ipython",
    "version": 3
   },
   "pygments_lexer": "ipython3",
   "nbconvert_exporter": "python",
   "file_extension": ".py"
  },
  "kernelspec": {
   "name": "python3",
   "display_name": "Python 3.9.5 64-bit ('python-environment': conda)"
  },
  "interpreter": {
   "hash": "b54640499e4db7ad164d10ed5c348d7d0dd862f6a62078a954638034af1458df"
  }
 },
 "nbformat": 4,
 "nbformat_minor": 2
}