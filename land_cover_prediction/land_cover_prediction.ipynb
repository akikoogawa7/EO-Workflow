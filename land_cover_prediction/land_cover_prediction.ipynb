{
 "cells": [
  {
   "cell_type": "code",
   "execution_count": 1,
   "source": [
    "# Jupyter notebook related\n",
    "%reload_ext autoreload\n",
    "%autoreload 2\n",
    "%matplotlib inline\n",
    "\n",
    "# Built-in modules\n",
    "import pickle\n",
    "import sys\n",
    "import os\n",
    "import datetime\n",
    "import itertools\n",
    "from aenum import MultiValueEnum\n",
    "\n",
    "# Basics of Python data handling and visualization\n",
    "import numpy as np\n",
    "np.random.seed(42)\n",
    "import geopandas as gpd\n",
    "import matplotlib as mpl\n",
    "import matplotlib.pyplot as plt\n",
    "import matplotlib.gridspec as gridspec\n",
    "from matplotlib.colors import ListedColormap, BoundaryNorm\n",
    "from mpl_toolkits.axes_grid1 import make_axes_locatable\n",
    "from shapely.geometry import Polygon\n",
    "from tqdm.auto import tqdm\n",
    "\n",
    "# Machine learning\n",
    "import lightgbm as lgb\n",
    "import joblib\n",
    "from sklearn import metrics\n",
    "from sklearn import preprocessing\n",
    "\n",
    "# Imports from eo-learn and sentinelhub-py\n",
    "from eolearn.core import EOTask, EOPatch, LinearWorkflow, FeatureType, OverwritePermission, \\\n",
    "    LoadTask, SaveTask, EOExecutor, ExtractBandsTask, MergeFeatureTask\n",
    "from eolearn.io import SentinelHubInputTask, VectorImportTask, ExportToTiff\n",
    "from eolearn.mask import AddValidDataMaskTask\n",
    "from eolearn.geometry import VectorToRaster, PointSamplingTask, ErosionTask\n",
    "from eolearn.features import LinearInterpolation, SimpleFilterTask, NormalizedDifferenceIndexTask\n",
    "from sentinelhub import UtmZoneSplitter, BBox, CRS, DataCollection"
   ],
   "outputs": [],
   "metadata": {}
  },
  {
   "cell_type": "markdown",
   "source": [
    "## Define Area-Of-Interest (AOI)\n",
    "### Get country boundary"
   ],
   "metadata": {}
  },
  {
   "cell_type": "code",
   "execution_count": 6,
   "source": [
    "# Folder where data for running the notebook is stored\n",
    "DATA_FOLDER = os.path.join('example_data')\n",
    "# Locations for collected data and intermediate results\n",
    "EOPATCH_FOLDER = os.path.join('.', 'eopatches')\n",
    "EOPATCH_SAMPLES_FOLDER = os.path.join('.', 'eopatches_sampled')\n",
    "RESULTS_FOLDER = os.path.join('.', 'results')\n",
    "os.makedirs(EOPATCH_FOLDER, exist_ok=True)\n",
    "os.makedirs(EOPATCH_SAMPLES_FOLDER, exist_ok=True)\n",
    "os.makedirs(RESULTS_FOLDER, exist_ok=True)"
   ],
   "outputs": [],
   "metadata": {}
  },
  {
   "cell_type": "code",
   "execution_count": 8,
   "source": [
    "# Load geojson file\n",
    "country = gpd.read_file(os.path.join(DATA_FOLDER, 'svn_border.geojson'))\n",
    "# Add 500m buffer to secure sufficient data near border\n",
    "country = country.buffer(500)\n",
    "\n",
    "# Get the country's shape in polygon format\n",
    "country_shape = country.geometry.values[0]"
   ],
   "outputs": [],
   "metadata": {}
  },
  {
   "cell_type": "code",
   "execution_count": null,
   "source": [],
   "outputs": [],
   "metadata": {}
  }
 ],
 "metadata": {
  "orig_nbformat": 4,
  "language_info": {
   "name": "python",
   "version": "3.9.5",
   "mimetype": "text/x-python",
   "codemirror_mode": {
    "name": "ipython",
    "version": 3
   },
   "pygments_lexer": "ipython3",
   "nbconvert_exporter": "python",
   "file_extension": ".py"
  },
  "kernelspec": {
   "name": "python3",
   "display_name": "Python 3.9.5 64-bit ('python-environment': conda)"
  },
  "interpreter": {
   "hash": "b54640499e4db7ad164d10ed5c348d7d0dd862f6a62078a954638034af1458df"
  }
 },
 "nbformat": 4,
 "nbformat_minor": 2
}