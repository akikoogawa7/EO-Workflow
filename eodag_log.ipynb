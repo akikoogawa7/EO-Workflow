{
 "cells": [
  {
   "cell_type": "code",
   "execution_count": 1,
   "source": [
    "from eodag import EODataAccessGateway\n",
    "from eodag import setup_logging\n",
    "\n",
    "setup_logging(2)"
   ],
   "outputs": [],
   "metadata": {}
  },
  {
   "cell_type": "markdown",
   "source": [
    "### Configure"
   ],
   "metadata": {}
  },
  {
   "cell_type": "code",
   "execution_count": 2,
   "source": [
    "workspace = 'eodag_workspace_overview'\n",
    "if not os.path.isdir(workspace):\n",
    "    os.mkdir(workspace)"
   ],
   "outputs": [],
   "metadata": {}
  },
  {
   "cell_type": "code",
   "execution_count": 3,
   "source": [
    "setup_logging(3)"
   ],
   "outputs": [],
   "metadata": {}
  },
  {
   "cell_type": "code",
   "execution_count": 4,
   "source": [
    "dag = EODataAccessGateway()"
   ],
   "outputs": [
    {
     "output_type": "stream",
     "name": "stderr",
     "text": [
      "2021-08-31 20:18:46,190-15s eodag.config                     [INFO    ] (config           ) Loading user configuration from: /Users/akikoogawa/.config/eodag/eodag.yml\n",
      "2021-08-31 20:18:46,263-15s eodag.core                       [DEBUG   ] (core             ) Opening product types index in /Users/akikoogawa/.config/eodag/.index\n",
      "2021-08-31 20:18:46,298-15s eodag.core                       [INFO    ] (core             ) Locations configuration loaded from /Users/akikoogawa/.config/eodag/locations.yml\n"
     ]
    }
   ],
   "metadata": {}
  },
  {
   "cell_type": "code",
   "execution_count": 5,
   "source": [
    "[product_type[\"ID\"] for product_type in dag.list_product_types(\"peps\")]\n"
   ],
   "outputs": [
    {
     "output_type": "execute_result",
     "data": {
      "text/plain": [
       "['S1_SAR_GRD', 'S1_SAR_OCN', 'S1_SAR_SLC', 'S2_MSI_L1C', 'S2_MSI_L2A']"
      ]
     },
     "metadata": {},
     "execution_count": 5
    }
   ],
   "metadata": {}
  },
  {
   "cell_type": "code",
   "execution_count": 6,
   "source": [
    "dag.available_providers(\"S2_MSI_L1C\")\n"
   ],
   "outputs": [
    {
     "output_type": "execute_result",
     "data": {
      "text/plain": [
       "['astraea_eod',\n",
       " 'aws_eos',\n",
       " 'creodias',\n",
       " 'earth_search',\n",
       " 'mundi',\n",
       " 'onda',\n",
       " 'peps',\n",
       " 'sobloo']"
      ]
     },
     "metadata": {},
     "execution_count": 6
    }
   ],
   "metadata": {}
  },
  {
   "cell_type": "code",
   "execution_count": 7,
   "source": [
    "dag.set_preferred_provider(\"peps\")\n"
   ],
   "outputs": [],
   "metadata": {}
  },
  {
   "cell_type": "markdown",
   "source": [
    "### Search"
   ],
   "metadata": {}
  },
  {
   "cell_type": "code",
   "execution_count": 8,
   "source": [
    "search_criteria = {\n",
    "    \"productType\": \"S2_MSI_L1C\",\n",
    "    \"start\": \"2021-03-01\",\n",
    "    \"end\": \"2021-03-31\",\n",
    "    \"geom\": {\"lonmin\": 1, \"latmin\": 43, \"lonmax\": 2, \"latmax\": 44}\n",
    "}"
   ],
   "outputs": [],
   "metadata": {}
  },
  {
   "cell_type": "code",
   "execution_count": 9,
   "source": [
    "products_first_page, estimated_total_number = dag.search(**search_criteria)\n"
   ],
   "outputs": [
    {
     "output_type": "stream",
     "name": "stderr",
     "text": [
      "2021-08-31 20:20:23,395-15s eodag.core                       [INFO    ] (core             ) Searching product type 'S2_MSI_L1C' on provider: peps\n",
      "2021-08-31 20:20:23,395-15s eodag.core                       [DEBUG   ] (core             ) Using plugin class for search: QueryStringSearch\n",
      "2021-08-31 20:20:23,396-15s eodag.plugins.search.qssearch    [DEBUG   ] (qssearch         ) Mapping eodag product type to provider product type\n",
      "2021-08-31 20:20:23,396-15s eodag.plugins.search.qssearch    [DEBUG   ] (qssearch         ) Getting provider product type definition parameters for S2_MSI_L1C\n",
      "2021-08-31 20:20:23,396-15s eodag.plugins.search.qssearch    [DEBUG   ] (qssearch         ) Getting provider product type definition parameters for S2_MSI_L1C\n",
      "2021-08-31 20:20:23,396-15s eodag.plugins.search.qssearch    [DEBUG   ] (qssearch         ) Building the query string that will be used for search\n",
      "2021-08-31 20:20:23,397-15s eodag.plugins.search.qssearch    [DEBUG   ] (qssearch         ) Retrieving queryable metadata from metadata_mapping\n",
      "2021-08-31 20:20:23,398-15s eodag.plugins.search.qssearch    [INFO    ] (qssearch         ) Sending count request: https://peps.cnes.fr/resto/api/collections/S2ST/search.json?startDate=2021-03-01&completionDate=2021-03-31&geometry=POLYGON ((1.0000 43.0000, 1.0000 44.0000, 2.0000 44.0000, 2.0000 43.0000, 1.0000 43.0000))&productType=S2MSI1C&maxRecords=1&page=1\n",
      "2021-08-31 20:20:23,738-15s eodag.plugins.search.qssearch    [INFO    ] (qssearch         ) Sending search request: https://peps.cnes.fr/resto/api/collections/S2ST/search.json?startDate=2021-03-01&completionDate=2021-03-31&geometry=POLYGON ((1.0000 43.0000, 1.0000 44.0000, 2.0000 44.0000, 2.0000 43.0000, 1.0000 43.0000))&productType=S2MSI1C&maxRecords=20&page=1\n",
      "2021-08-31 20:20:24,221-15s eodag.plugins.search.qssearch    [DEBUG   ] (qssearch         ) Adapting 20 plugin results to eodag product representation\n",
      "2021-08-31 20:20:24,618-15s eodag.core                       [INFO    ] (core             ) Found 48 result(s) on provider 'peps'\n"
     ]
    }
   ],
   "metadata": {}
  },
  {
   "cell_type": "code",
   "execution_count": 10,
   "source": [
    "print(f\"Got {len(products_first_page)} products and an estimated total number of {estimated_total_number} products.\")\n"
   ],
   "outputs": [
    {
     "output_type": "stream",
     "name": "stdout",
     "text": [
      "Got 20 products and an estimated total number of 48 products.\n"
     ]
    }
   ],
   "metadata": {}
  },
  {
   "cell_type": "code",
   "execution_count": 11,
   "source": [
    "products_first_page"
   ],
   "outputs": [
    {
     "output_type": "execute_result",
     "data": {
      "text/plain": [
       "[EOProduct(id=S2B_MSIL1C_20210328T103629_N0209_R008_T31TCJ_20210328T124650, provider=peps), EOProduct(id=S2B_MSIL1C_20210328T103629_N0209_R008_T31TCH_20210328T124650, provider=peps), EOProduct(id=S2B_MSIL1C_20210328T103629_N0209_R008_T31TDH_20210328T124650, provider=peps), EOProduct(id=S2B_MSIL1C_20210328T103629_N0209_R008_T31TDJ_20210328T124650, provider=peps), EOProduct(id=S2A_MSIL1C_20210326T105031_N0209_R051_T31TDH_20210326T125540, provider=peps), EOProduct(id=S2A_MSIL1C_20210326T105031_N0209_R051_T31TDJ_20210326T125540, provider=peps), EOProduct(id=S2A_MSIL1C_20210326T105031_N0209_R051_T31TCJ_20210326T125540, provider=peps), EOProduct(id=S2A_MSIL1C_20210326T105031_N0209_R051_T31TCH_20210326T125540, provider=peps), EOProduct(id=S2A_MSIL1C_20210323T104021_N0209_R008_T31TCJ_20210323T141236, provider=peps), EOProduct(id=S2A_MSIL1C_20210323T104021_N0209_R008_T31TDJ_20210323T141236, provider=peps), EOProduct(id=S2A_MSIL1C_20210323T104021_N0209_R008_T31TDH_20210323T141236, provider=peps), EOProduct(id=S2A_MSIL1C_20210323T104021_N0209_R008_T31TCH_20210323T141236, provider=peps), EOProduct(id=S2B_MSIL1C_20210321T104639_N0209_R051_T31TCJ_20210321T130616, provider=peps), EOProduct(id=S2B_MSIL1C_20210321T104639_N0209_R051_T31TDJ_20210321T130616, provider=peps), EOProduct(id=S2B_MSIL1C_20210321T104639_N0209_R051_T31TCH_20210321T130616, provider=peps), EOProduct(id=S2B_MSIL1C_20210321T104639_N0209_R051_T31TDH_20210321T130616, provider=peps), EOProduct(id=S2B_MSIL1C_20210318T103649_N0209_R008_T31TDH_20210318T143809, provider=peps), EOProduct(id=S2B_MSIL1C_20210318T103649_N0209_R008_T31TCH_20210318T143809, provider=peps), EOProduct(id=S2B_MSIL1C_20210318T103649_N0209_R008_T31TCJ_20210318T143809, provider=peps), EOProduct(id=S2B_MSIL1C_20210318T103649_N0209_R008_T31TDJ_20210318T143809, provider=peps)]"
      ]
     },
     "metadata": {},
     "execution_count": 11
    }
   ],
   "metadata": {}
  },
  {
   "cell_type": "code",
   "execution_count": 12,
   "source": [
    "one_product = products_first_page[0]\n",
    "one_product.properties.keys()"
   ],
   "outputs": [
    {
     "output_type": "execute_result",
     "data": {
      "text/plain": [
       "dict_keys(['abstract', 'instrument', 'platform', 'platformSerialIdentifier', 'processingLevel', 'sensorType', 'license', 'missionStartDate', 'title', 'bands', 'productType', 'uid', 'keyword', 'resolution', 'organisationName', 'publicationDate', 'parentIdentifier', 'orbitNumber', 'orbitDirection', 'cloudCover', 'snowCover', 'creationDate', 'modificationDate', 'sensorMode', 'startTimeFromAscendingNode', 'completionTimeFromAscendingNode', 'id', 'quicklook', 'downloadLink', 'storageStatus', 'thumbnail', 'resourceSize', 'resourceChecksum', 'visible', 'newVersion', 'isNrt', 'realtime', 'relativeOrbitNumber', 's2TakeId', 'mgrs', 'bareSoil', 'highProbaClouds', 'mediumProbaClouds', 'lowProbaClouds', 'snowIce', 'vegetation', 'water', 'services', 'links', 'storage'])"
      ]
     },
     "metadata": {},
     "execution_count": 12
    }
   ],
   "metadata": {}
  },
  {
   "cell_type": "code",
   "execution_count": 13,
   "source": [
    "one_product.location"
   ],
   "outputs": [
    {
     "output_type": "execute_result",
     "data": {
      "text/plain": [
       "'https://peps.cnes.fr/resto/collections/S2ST/387c7327-9a71-5a34-9163-0dfdeb024522/download'"
      ]
     },
     "metadata": {},
     "execution_count": 13
    }
   ],
   "metadata": {}
  },
  {
   "cell_type": "code",
   "execution_count": 14,
   "source": [
    "all_products = dag.search_all(**search_criteria)"
   ],
   "outputs": [
    {
     "output_type": "stream",
     "name": "stderr",
     "text": [
      "2021-08-31 20:21:40,187-15s eodag.core                       [DEBUG   ] (core             ) Searching for all the products with provider peps and a maximum of 500 items per page.\n",
      "2021-08-31 20:21:40,188-15s eodag.core                       [INFO    ] (core             ) Searching product type 'S2_MSI_L1C' on provider: peps\n",
      "2021-08-31 20:21:40,188-15s eodag.core                       [DEBUG   ] (core             ) Using plugin class for search: QueryStringSearch\n",
      "2021-08-31 20:21:40,188-15s eodag.core                       [INFO    ] (core             ) Iterate search over multiple pages: page #1\n",
      "2021-08-31 20:21:40,189-15s eodag.plugins.search.qssearch    [DEBUG   ] (qssearch         ) Mapping eodag product type to provider product type\n",
      "2021-08-31 20:21:40,189-15s eodag.plugins.search.qssearch    [DEBUG   ] (qssearch         ) Getting provider product type definition parameters for S2_MSI_L1C\n",
      "2021-08-31 20:21:40,189-15s eodag.plugins.search.qssearch    [DEBUG   ] (qssearch         ) Getting provider product type definition parameters for S2_MSI_L1C\n",
      "2021-08-31 20:21:40,190-15s eodag.plugins.search.qssearch    [DEBUG   ] (qssearch         ) Building the query string that will be used for search\n",
      "2021-08-31 20:21:40,190-15s eodag.plugins.search.qssearch    [DEBUG   ] (qssearch         ) Retrieving queryable metadata from metadata_mapping\n",
      "2021-08-31 20:21:40,191-15s eodag.plugins.search.qssearch    [INFO    ] (qssearch         ) Sending search request: https://peps.cnes.fr/resto/api/collections/S2ST/search.json?startDate=2021-03-01&completionDate=2021-03-31&geometry=POLYGON ((1.0000 43.0000, 1.0000 44.0000, 2.0000 44.0000, 2.0000 43.0000, 1.0000 43.0000))&productType=S2MSI1C&maxRecords=500&page=1\n",
      "2021-08-31 20:21:41,276-15s eodag.plugins.search.qssearch    [DEBUG   ] (qssearch         ) Adapting 48 plugin results to eodag product representation\n",
      "2021-08-31 20:21:42,139-15s eodag.core                       [DEBUG   ] (core             ) Iterate over pages: last products found on page 1\n",
      "2021-08-31 20:21:42,140-15s eodag.core                       [INFO    ] (core             ) Found 48 result(s) on provider 'peps'\n"
     ]
    }
   ],
   "metadata": {}
  },
  {
   "cell_type": "code",
   "execution_count": 15,
   "source": [
    "print(f\"Got a total number of {len(all_products)} products.\")"
   ],
   "outputs": [
    {
     "output_type": "stream",
     "name": "stdout",
     "text": [
      "Got a total number of 48 products.\n"
     ]
    }
   ],
   "metadata": {}
  },
  {
   "cell_type": "markdown",
   "source": [
    "### Crunch"
   ],
   "metadata": {}
  },
  {
   "cell_type": "code",
   "execution_count": 16,
   "source": [
    "from eodag.plugins.crunch.filter_property import FilterProperty"
   ],
   "outputs": [],
   "metadata": {}
  },
  {
   "cell_type": "code",
   "execution_count": 17,
   "source": [
    "filtered_products = all_products.crunch(FilterProperty({\"cloudCover\": 10, \"operator\": \"lt\"}))"
   ],
   "outputs": [
    {
     "output_type": "stream",
     "name": "stderr",
     "text": [
      "2021-08-31 20:22:32,945-15s eodag.plugins.crunch.filter_property [DEBUG   ] (filter_property  ) Start filtering for products matching operator.lt(product.properties['cloudCover'], 10)\n",
      "2021-08-31 20:22:32,946-15s eodag.plugins.crunch.filter_property [INFO    ] (filter_property  ) Finished filtering products. 10 resulting products\n"
     ]
    }
   ],
   "metadata": {}
  },
  {
   "cell_type": "code",
   "execution_count": 18,
   "source": [
    "print(f\"Got now {len(filtered_products)} products after filtering.\")"
   ],
   "outputs": [
    {
     "output_type": "stream",
     "name": "stdout",
     "text": [
      "Got now 10 products after filtering.\n"
     ]
    }
   ],
   "metadata": {}
  },
  {
   "cell_type": "markdown",
   "source": [
    "### Serialise"
   ],
   "metadata": {}
  },
  {
   "cell_type": "code",
   "execution_count": 19,
   "source": [
    "filtered_prods_filepath = dag.serialize(filtered_products, filename=os.path.join(workspace, \"filtered_products.geojson\"))\n",
    "# restored_filtered_prods = dag.deserialize_and_register(filtered_prods_filepath)"
   ],
   "outputs": [],
   "metadata": {}
  },
  {
   "cell_type": "markdown",
   "source": [
    "### Download"
   ],
   "metadata": {}
  },
  {
   "cell_type": "code",
   "execution_count": null,
   "source": [],
   "outputs": [],
   "metadata": {}
  }
 ],
 "metadata": {
  "orig_nbformat": 4,
  "language_info": {
   "name": "python",
   "version": "3.9.5",
   "mimetype": "text/x-python",
   "codemirror_mode": {
    "name": "ipython",
    "version": 3
   },
   "pygments_lexer": "ipython3",
   "nbconvert_exporter": "python",
   "file_extension": ".py"
  },
  "kernelspec": {
   "name": "python3",
   "display_name": "Python 3.9.5 64-bit ('build': conda)"
  },
  "interpreter": {
   "hash": "66ef6a7a705c8be6809de2eb76265bf52fc541cd247a31edcf396c8f844691fd"
  }
 },
 "nbformat": 4,
 "nbformat_minor": 2
}